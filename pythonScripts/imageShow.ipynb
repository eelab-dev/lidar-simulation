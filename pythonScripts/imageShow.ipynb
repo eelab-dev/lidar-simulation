{
 "cells": [
  {
   "cell_type": "code",
   "execution_count": null,
   "id": "0",
   "metadata": {},
   "outputs": [],
   "source": [
    "%load_ext autoreload\n",
    "%autoreload 2\n",
    "from pythonLib.pixelationLib import*\n",
    "from pythonLib.formImageLib import*\n",
    "# input_file_path = \"../singleTest/single_rawData.h5\"\n",
    "input_file_path = \"../positive/rawData/positive_rawData_520.h5\"\n",
    "input_fov, input_height, input_width = read_file_parameter(input_file_path) \n",
    "\n",
    "image_width = 200\n",
    "image_height = 200\n",
    "fov = 35\n",
    "# Initialize detector\n",
    "mydetector = detector(0.01, fov, image_width, image_height)\n",
    "\n",
    "# Read and process photons\n",
    "photons, failed_lines = read_raw_data(input_file_path)\n",
    "\n",
    "print(len(photons))\n",
    "for photon in photons:\n",
    "    mydetector.photon_to_dector(photon)\n",
    "pixels,image_width,image_height = mydetector.output_to_array()\n",
    "\n",
    "range_min = 2000\n",
    "range_max = 3300\n",
    "input_bin_number = 36\n",
    "myRange = [range_min,range_max]\n",
    "image, illegal_photon, stamped_histogram, stamped_collosioin = form_histogram_image(pixels, image_height,image_width,bin_number=input_bin_number,range_distance=myRange)\n",
    "display_image(image,None,distance_range=myRange)"
   ]
  },
  {
   "cell_type": "code",
   "execution_count": null,
   "id": "1",
   "metadata": {},
   "outputs": [],
   "source": [
    "%load_ext autoreload\n",
    "%autoreload 2\n",
    "from pythonLib.pixelationLib import*\n",
    "from pythonLib.formImageLib import*\n",
    "\n",
    "input_file_path = \"../STM32Lidar/positive/pixelizedData/positive_pixelized_1.h5\"\n",
    "\n",
    "range_min = 800\n",
    "bin_width = 18 \n",
    "input_bin_number = 75\n",
    "\n",
    "\n",
    "range_max = range_min + input_bin_number * bin_width\n",
    "myRange = [range_min,range_max]\n",
    "pixels, image_width, image_heigh = decode_file(input_file_path)\n",
    "\n",
    "image, illegal_photon, stamped_histogram, stamped_collosioin = form_histogram_image(pixels, image_heigh,image_width,bin_number=input_bin_number,range_distance=myRange)\n",
    "\n",
    "display_image(image,None,distance_range=myRange)"
   ]
  }
 ],
 "metadata": {
  "kernelspec": {
   "display_name": ".venv",
   "language": "python",
   "name": "python3"
  },
  "language_info": {
   "codemirror_mode": {
    "name": "ipython",
    "version": 3
   },
   "file_extension": ".py",
   "mimetype": "text/x-python",
   "name": "python",
   "nbconvert_exporter": "python",
   "pygments_lexer": "ipython3",
   "version": "3.10.12"
  }
 },
 "nbformat": 4,
 "nbformat_minor": 5
}
