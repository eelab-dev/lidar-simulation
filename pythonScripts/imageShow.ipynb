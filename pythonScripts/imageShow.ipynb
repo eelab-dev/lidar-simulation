{
 "cells": [
  {
   "cell_type": "code",
   "execution_count": null,
   "id": "0",
   "metadata": {},
   "outputs": [],
   "source": [
    "%load_ext autoreload\n",
    "%autoreload 2\n",
    "from pythonLib.pixelationLib import*\n",
    "from pythonLib.formImageLib import*\n",
    "\n",
    "input_file_path = \"../ADS6311/positive/histogramData/positive_histogram_1.h5\"\n",
    "pixel_hist = display_image_fromH5(input_file_path)\n",
    "pixel_hist = pixel_hist[25, 40, :]  # shape: (bin_num,)\n",
    "bin_centers = np.arange(len(pixel_hist))  # or use bin_width and range_min if needed\n",
    "plt.figure()\n",
    "plt.bar( bin_centers, pixel_hist, width=1)\n",
    "plt.xlabel(\"Bin Index\")\n",
    "plt.ylabel(\"Count\")\n",
    "plt.grid(True)\n",
    "plt.show()"
   ]
  }
 ],
 "metadata": {
  "kernelspec": {
   "display_name": ".venv",
   "language": "python",
   "name": "python3"
  },
  "language_info": {
   "codemirror_mode": {
    "name": "ipython",
    "version": 3
   },
   "file_extension": ".py",
   "mimetype": "text/x-python",
   "name": "python",
   "nbconvert_exporter": "python",
   "pygments_lexer": "ipython3",
   "version": "3.10.12"
  }
 },
 "nbformat": 4,
 "nbformat_minor": 5
}
