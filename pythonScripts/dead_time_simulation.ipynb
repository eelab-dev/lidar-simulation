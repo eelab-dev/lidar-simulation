{
 "cells": [
  {
   "cell_type": "code",
   "execution_count": null,
   "id": "0",
   "metadata": {},
   "outputs": [],
   "source": [
    "%load_ext autoreload\n",
    "%autoreload 2\n",
    "from pythonLib.pixelationLib import*\n",
    "from pythonLib.formImageLib import*\n",
    "from ipywidgets import interact, interactive, fixed, interact_manual\n",
    "import ipywidgets as widgets\n",
    "\n",
    "\n",
    "\n",
    "pixel_input_file = \"../ADS_calibration/pixelizedData/static_pixelized_1.h5\"\n",
    "range_min = 1390\n",
    "bin_number = 15\n",
    "bin_width = 225\n",
    "range_max = range_min + bin_number * bin_width\n",
    "myRange = [range_min, range_max]\n",
    "\n",
    "pixels, image_width, image_heigh = decode_file(pixel_input_file)\n",
    "\n",
    "def plot_func(input_pluse_train_num):\n",
    "    # ensure int if you keep FloatSlider elsewhere\n",
    "    input_pluse_train_num = int(input_pluse_train_num)\n",
    "\n",
    "    new_pixels, discard_count, accept_count = dead_time_simulation(\n",
    "        simulated_photon=pixels,\n",
    "        imageWidth=image_width,\n",
    "        imageHeight=image_heigh,\n",
    "        pluse_train_num=input_pluse_train_num\n",
    "    )\n",
    "\n",
    "    pre_image, pre_illegal_photon, pre_stamped_histogram, pre_stamped_collosion = form_histogram_image(\n",
    "        new_pixels,                # <-- use the dead-time simulated pixels\n",
    "        image_width,\n",
    "        image_heigh,\n",
    "        bin_number=bin_number,\n",
    "        range_distance=myRange\n",
    "    )\n",
    "\n",
    "    display_image(pre_image, distance_range=myRange)\n",
    "    display_combined_normalized_histogram(pre_stamped_histogram)\n",
    "    # (Optional) print diagnostic counts\n",
    "    print(f\"discard={discard_count}, accept={accept_count}\")\n",
    "\n",
    "interact(\n",
    "    plot_func,\n",
    "    input_pluse_train_num=widgets.IntSlider(\n",
    "        value=1500,\n",
    "        min=200,\n",
    "        max=3500,\n",
    "        step=50,\n",
    "        continuous_update=False   # smoother UI\n",
    "    )\n",
    ")\n",
    "\n"
   ]
  }
 ],
 "metadata": {
  "kernelspec": {
   "display_name": ".venv",
   "language": "python",
   "name": "python3"
  },
  "language_info": {
   "codemirror_mode": {
    "name": "ipython",
    "version": 3
   },
   "file_extension": ".py",
   "mimetype": "text/x-python",
   "name": "python",
   "nbconvert_exporter": "python",
   "pygments_lexer": "ipython3",
   "version": "3.10.12"
  }
 },
 "nbformat": 4,
 "nbformat_minor": 5
}
